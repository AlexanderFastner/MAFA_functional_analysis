{
 "cells": [
  {
   "cell_type": "markdown",
   "id": "090456e2-162d-4401-bda4-e23b71bb5151",
   "metadata": {},
   "source": [
    "# Pathway enrichment in MAFA WT T0\n",
    "Collab Theis - Hebrok labs\n",
    "\n",
    "Data analysis: Alexander Fastner\n",
    "\n",
    "based on Data analysis by: Sara Jimenez\n",
    "\n",
    "Data generation: Veronica Cochrane"
   ]
  },
  {
   "cell_type": "markdown",
   "id": "ed21f49a-65d2-4c07-b651-7d7bdc628094",
   "metadata": {},
   "source": [
    "## Loading Packages"
   ]
  },
  {
   "cell_type": "code",
   "execution_count": null,
   "id": "59de4846-a4dd-4763-8c4b-5cb113adea8e",
   "metadata": {},
   "outputs": [],
   "source": [
    "import scanpy as sc\n",
    "import decoupler as dc\n",
    "\n",
    "# Only needed for processing\n",
    "import numpy as np\n",
    "import pandas as pd\n",
    "from anndata import AnnData\n",
    "from scipy.stats import pearsonr, spearmanr\n"
   ]
  },
  {
   "cell_type": "markdown",
   "id": "5784cb56-21f9-472b-ad21-5785dc93b9b3",
   "metadata": {},
   "source": [
    "## Load Data"
   ]
  },
  {
   "cell_type": "code",
   "execution_count": null,
   "id": "c327d42f-cf1d-4df5-b8bd-6f9d79d6a424",
   "metadata": {},
   "outputs": [],
   "source": [
    "# Read raw data and process it\n",
    "adata = pd.read_csv('../data/MAFA_WT_gene_count.txt', index_col=20, sep='\\t').T\n",
    "adata"
   ]
  },
  {
   "cell_type": "code",
   "execution_count": null,
   "id": "873c47d5-814c-4d13-9168-bbb07b7149fb",
   "metadata": {},
   "outputs": [],
   "source": [
    "# Transform to AnnData object\n",
    "adata = AnnData(adata, dtype=np.float32)\n",
    "adata.var_names_make_unique()\n",
    "adata"
   ]
  },
  {
   "cell_type": "code",
   "execution_count": null,
   "id": "8732148c-c85b-4006-b0cb-506ab20f909d",
   "metadata": {},
   "outputs": [],
   "source": [
    "# Read metadata \n",
    "metadata = pd.read_csv('../data/2023_MAFA_MetaData.txt', index_col=0, sep='\\t')\n",
    "metadata"
   ]
  },
  {
   "cell_type": "code",
   "execution_count": null,
   "id": "706c90d3-39f5-477c-a05b-15b6500025c1",
   "metadata": {},
   "outputs": [],
   "source": [
    "adata.obs['condition'] = metadata['Treatment']\n",
    "adata.obs['time_point'] = metadata['TimePoint']\n",
    "adata.obs['DOX'] = metadata['DOX']\n",
    "adata.obs"
   ]
  },
  {
   "cell_type": "code",
   "execution_count": null,
   "id": "0d5c563d-e3fb-4958-86ec-93ba5c71df88",
   "metadata": {},
   "outputs": [],
   "source": [
    "# split data set by timepoint\n",
    "subset_t0 = adata[adata.obs.time_point == 'T0']\n",
    "print(\"Subset for time point T0:\")\n",
    "print(subset_t0)\n",
    "subset_t0.obs\n",
    "# print(\"\\nSubset for time point T1:\")\n",
    "# print(subset_t1)\n",
    "# print(\"\\nSubset for time point T2:\")\n",
    "# print(subset_t2)"
   ]
  },
  {
   "cell_type": "markdown",
   "id": "62f02c23-800d-4bf2-afe4-934214c4889e",
   "metadata": {},
   "source": [
    "## Quality Control"
   ]
  },
  {
   "cell_type": "code",
   "execution_count": null,
   "id": "87a25839-ab0c-4ea6-a681-348248112990",
   "metadata": {},
   "outputs": [],
   "source": [
    "#check various filter points\n",
    "#old\n",
    "dc.plot_filter_by_expr(adata, group=None, min_count=10, min_total_count=15, large_n=1, min_prop=1)\n",
    "dc.plot_filter_by_expr(subset_t0, group=None, min_count=10, min_total_count=15, large_n=1, min_prop=1,save='../figures/WT/t0_QC.png')\n"
   ]
  },
  {
   "cell_type": "code",
   "execution_count": null,
   "id": "f03f198c-d585-4582-8ed2-9c6e6ffe14df",
   "metadata": {},
   "outputs": [],
   "source": [
    "# Obtain genes that pass the thresholds\n",
    "genes = dc.filter_by_expr(subset_t0, group=None, min_count=10, min_total_count=15, large_n=1, min_prop=1)\n",
    "genes.size"
   ]
  },
  {
   "cell_type": "code",
   "execution_count": null,
   "id": "860305c1-3998-47e0-ba79-f36a0f347f3e",
   "metadata": {},
   "outputs": [],
   "source": [
    "# Filter by these genes\n",
    "adata = subset_t0[:, genes].copy()\n",
    "adata"
   ]
  },
  {
   "cell_type": "code",
   "execution_count": null,
   "id": "f2d9f492-e848-458c-adea-ec08c4661074",
   "metadata": {},
   "outputs": [],
   "source": [
    "#!pip install pydeseq2"
   ]
  },
  {
   "cell_type": "code",
   "execution_count": null,
   "id": "e8ae0d04-adf2-4668-9d52-78f5714f64c6",
   "metadata": {},
   "outputs": [],
   "source": [
    "# Import DESeq2\n",
    "from pydeseq2.dds import DeseqDataSet\n",
    "from pydeseq2.ds import DeseqStats"
   ]
  },
  {
   "cell_type": "code",
   "execution_count": null,
   "id": "1a3a44a0-0d29-4397-896c-0b04c84e3a36",
   "metadata": {},
   "outputs": [],
   "source": [
    "adata.X = np.round(adata.X,0)"
   ]
  },
  {
   "cell_type": "code",
   "execution_count": null,
   "id": "3c95493e-e5d9-4af3-8b71-774d286f74a0",
   "metadata": {},
   "outputs": [],
   "source": [
    "# Build DESeq2 object\n",
    "dds = DeseqDataSet(\n",
    "    adata=adata,\n",
    "    design_factors='condition',\n",
    "    refit_cooks=True,\n",
    "    n_cpus=8,\n",
    ")"
   ]
  },
  {
   "cell_type": "code",
   "execution_count": null,
   "id": "90e993d2-b7fb-4879-ab1b-c4da34319a12",
   "metadata": {},
   "outputs": [],
   "source": [
    "# Compute LFCs\n",
    "dds.deseq2()"
   ]
  },
  {
   "cell_type": "code",
   "execution_count": null,
   "id": "2f0f6561-ea8e-4822-8a73-c838c8047dcc",
   "metadata": {},
   "outputs": [],
   "source": [
    "# Extract contrast \n",
    "stat_res = DeseqStats(dds, contrast=[\"condition\", 'MAFA', 'Control'], n_cpus=8)"
   ]
  },
  {
   "cell_type": "code",
   "execution_count": null,
   "id": "b9ed6b66-c225-45b4-9245-56f33b2a8ecf",
   "metadata": {},
   "outputs": [],
   "source": [
    "# Compute Wald test\n",
    "stat_res.summary()"
   ]
  },
  {
   "cell_type": "code",
   "execution_count": null,
   "id": "b6edf7c6-0ac6-4102-906b-2c1844aaa107",
   "metadata": {},
   "outputs": [],
   "source": [
    "# Shrink LFCs\n",
    "stat_res.lfc_shrink(coeff='condition_MAFA_vs_Control')"
   ]
  },
  {
   "cell_type": "code",
   "execution_count": null,
   "id": "8f6eea3a-06b2-4a1c-a19e-f92dc8b206d0",
   "metadata": {},
   "outputs": [],
   "source": [
    "# Extract results\n",
    "results_df = stat_res.results_df\n",
    "results_df"
   ]
  },
  {
   "cell_type": "code",
   "execution_count": null,
   "id": "504d2fff-a0f5-4d22-932f-ba8b7e95de9a",
   "metadata": {},
   "outputs": [],
   "source": [
    "#!pip install adjustText"
   ]
  },
  {
   "cell_type": "code",
   "execution_count": null,
   "id": "029e8526-b117-47dc-b5d1-cc70f80e08b0",
   "metadata": {},
   "outputs": [],
   "source": [
    "import matplotlib.pyplot as plt\n",
    "\n",
    "fig, ax = plt.subplots(figsize=(8, 6))\n",
    "dc.plot_volcano_df(\n",
    "    results_df,\n",
    "    x='log2FoldChange',\n",
    "    y='padj',\n",
    "    top=20,\n",
    "    ax=ax\n",
    ")\n",
    "ax.set_xlim(-10, 10)\n",
    "ax.set_ylim(0, 300)\n",
    "plt.savefig('../figures/WT/t0_volcano.png')"
   ]
  },
  {
   "cell_type": "code",
   "execution_count": null,
   "id": "32fe902a-a06b-40a6-be7d-99012c883485",
   "metadata": {},
   "outputs": [],
   "source": [
    "mat = results_df[['stat']].T.rename(index={'stat': 'treatment.vs.control'})\n",
    "mat"
   ]
  },
  {
   "cell_type": "markdown",
   "id": "7b81a8d7-c9d1-4c70-8c87-9f239ede56e1",
   "metadata": {},
   "source": [
    "### Transcription factor activity inference"
   ]
  },
  {
   "cell_type": "code",
   "execution_count": null,
   "id": "6d78944d-397c-47c6-a8b7-1d4d5207d205",
   "metadata": {},
   "outputs": [],
   "source": [
    "collectri = dc.get_collectri(organism='human')\n",
    "#collectri.to_csv('colllectri.csv', index=False)\n",
    "collectri"
   ]
  },
  {
   "cell_type": "markdown",
   "id": "5139f1c1-8873-47f6-b963-ec6a8cd2c4c6",
   "metadata": {},
   "source": [
    "### Activity inference with Univariate Linear Model (ULM)"
   ]
  },
  {
   "cell_type": "code",
   "execution_count": null,
   "id": "d72f7d61-7685-4828-8d2c-699b7cbe0b32",
   "metadata": {},
   "outputs": [],
   "source": [
    "# Infer TF activities with ulm\n",
    "tf_acts, tf_pvals = dc.run_ulm(mat=mat, net=collectri, verbose=True)\n",
    "tf_acts"
   ]
  },
  {
   "cell_type": "code",
   "execution_count": null,
   "id": "1c711d88-059f-4e5d-b7f0-170202a136d8",
   "metadata": {},
   "outputs": [],
   "source": [
    "dc.plot_barplot(\n",
    "    tf_acts,\n",
    "    'treatment.vs.control',\n",
    "    top=25,\n",
    "    vertical=True,\n",
    "    vmin=4,\n",
    "    vmax=4,\n",
    "    save='../figures/WT/t0_tf_activities.png'\n",
    ")"
   ]
  },
  {
   "cell_type": "markdown",
   "id": "ff292da1-2741-4100-8697-ffe5f11b38fc",
   "metadata": {},
   "source": [
    "# TF Activity with MLM"
   ]
  },
  {
   "cell_type": "code",
   "execution_count": null,
   "id": "1adf0cb4-69f8-4f00-8a81-e8777f37028f",
   "metadata": {},
   "outputs": [],
   "source": [
    "tf_acts_MLM, tf_pvals_MLM, = dc.run_mlm(mat=mat, net=collectri, verbose=True)\n",
    "tf_acts_MLM"
   ]
  },
  {
   "cell_type": "code",
   "execution_count": null,
   "id": "e9481c1b-5057-47d1-a26b-860641879f8e",
   "metadata": {
    "scrolled": true
   },
   "outputs": [],
   "source": [
    "dc.plot_barplot(\n",
    "    tf_acts_MLM,\n",
    "    'treatment.vs.control',\n",
    "    top=25,\n",
    "    vertical=True,\n",
    "    vmin=4,\n",
    "    vmax=4,\n",
    "    save='../figures/WT/t0_tf_activities_MLM.png'\n",
    ")"
   ]
  },
  {
   "cell_type": "markdown",
   "id": "ffa4f0d9-76d0-4d07-a361-4b6d7cbc9d1e",
   "metadata": {},
   "source": [
    "# Compare ULM and MLM results correlations"
   ]
  },
  {
   "cell_type": "code",
   "execution_count": null,
   "id": "72f49168-8757-4e40-aa38-357ca8cac913",
   "metadata": {},
   "outputs": [],
   "source": [
    "pearson_r, pearson_p = pearsonr(tf_acts.values.flatten(), tf_acts_MLM.values.flatten())\n",
    "spearman_r, spearman_p = spearmanr(tf_acts.values.flatten(), tf_acts_MLM.values.flatten())\n",
    "\n",
    "print(f\"Pearson correlation: {pearson_r:.2f} (p-value: {pearson_p:.2e})\")\n",
    "print(f\"Spearman correlation: {spearman_r:.2f} (p-value: {spearman_p:.2e})\")"
   ]
  },
  {
   "cell_type": "markdown",
   "id": "02ab91a8-bfc3-444f-aac7-85b03b15c441",
   "metadata": {},
   "source": [
    "# Find overlap in (Top 25)"
   ]
  },
  {
   "cell_type": "code",
   "execution_count": null,
   "id": "34e3c24f-8236-4ac0-abcf-163bf014dffc",
   "metadata": {},
   "outputs": [],
   "source": [
    "ulm_top_25 = tf_acts.T.sort_values(by='treatment.vs.control', ascending=False).head(25).index\n",
    "mlm_top_25 = tf_acts_MLM.T.sort_values(by='treatment.vs.control', ascending=False).head(25).index\n",
    "len(set(ulm_top_25)&set(mlm_top_25)) / float(len(set(ulm_top_25) | set(mlm_top_25))) * 100"
   ]
  },
  {
   "cell_type": "markdown",
   "id": "3e2fdd5b-2d80-451c-8f2e-fb41ad73eb3c",
   "metadata": {},
   "source": [
    "# Find overlap in top 10% (Top 65)"
   ]
  },
  {
   "cell_type": "code",
   "execution_count": null,
   "id": "c5af00b6-ed5e-4e04-aa2a-863e00d16683",
   "metadata": {},
   "outputs": [],
   "source": [
    "ulm_top = tf_acts.T.sort_values(by='treatment.vs.control', ascending=False).head(int(len(tf_acts.T) * 0.1)).index\n",
    "mlm_top = tf_acts_MLM.T.sort_values(by='treatment.vs.control', ascending=False).head(int(len(tf_acts_MLM.T) * 0.1)).index\n",
    "#len(set(ulm_top)&set(mlm_top)) #length of overlap of both\n",
    "#float(len(set(ulm_top))) #lengh of first list\n",
    "# set(mlm_top))) * 100 scale to %\n",
    "len(set(ulm_top)&set(mlm_top)) / float(len(set(ulm_top) | set(mlm_top))) * 100"
   ]
  },
  {
   "cell_type": "code",
   "execution_count": null,
   "id": "e95e3723-edae-4274-b7ab-3e4b1ac0f88e",
   "metadata": {},
   "outputs": [],
   "source": [
    "#activated\n",
    "# dc.plot_targets(results_df, stat='stat', source_name='HNF1A', net=collectri, top=15,save='../figures/WT/t0_HNF1A_targets.png')\n",
    "# dc.plot_targets(results_df, stat='stat', source_name='SIX3', net=collectri, top=15,save='../figures/WT/t0_SiX3_targets.png')\n",
    "# dc.plot_targets(results_df, stat='stat', source_name='SREBF1', net=collectri, top=15,save='../figures/WT/t0_SREBF1_targets.png')\n",
    "# dc.plot_targets(results_df, stat='stat', source_name='PPARA', net=collectri, top=15,save='../figures/WT/t0_PPARA_targets.png')\n",
    "# dc.plot_targets(results_df, stat='stat', source_name='MTF1', net=collectri, top=15,save='../figures/WT/t0_MTF1_targets.png')\n",
    "# dc.plot_targets(results_df, stat='stat', source_name='INSM1', net=collectri, top=15,save='../figures/WT/t0_INSM1_targets.png')\n",
    "# dc.plot_targets(results_df, stat='stat', source_name='NACC1', net=collectri, top=15,save='../figures/WT/t0_NACC1_targets.png')\n",
    "# #inhibited\n",
    "# dc.plot_targets(results_df, stat='stat', source_name='E2F1', net=collectri, top=15,save='../figures/WT/t0_E2F1_targets.png')\n",
    "# #MAFA\n",
    "# dc.plot_targets(results_df, stat='stat', source_name='MAFA', net=collectri, top=15,save='../figures/WT/t0_MAFA_targets.png')"
   ]
  },
  {
   "cell_type": "markdown",
   "id": "2087bdf9-2d58-443d-9c23-bf8f1c752109",
   "metadata": {},
   "source": [
    "## Plot Network"
   ]
  },
  {
   "cell_type": "code",
   "execution_count": null,
   "id": "0ad57f0f-3c9a-41bf-8c09-b15dda788d25",
   "metadata": {},
   "outputs": [],
   "source": [
    "dc.plot_network(\n",
    "    net=collectri,\n",
    "    obs=mat,\n",
    "    act=tf_acts,\n",
    "    n_sources=['HNF1A', 'SIX3', 'SREBF1', 'PPARA', 'MTF1', 'INSM1', 'NACC1', 'E2F1', 'MAFA'],\n",
    "    #n_sources=['HNF1A', 'SIX3', 'SREBF1', 'E2F1'],\n",
    "    n_targets=10,\n",
    "    node_size=0.5,\n",
    "    label_size=8,\n",
    "    figsize=(10, 10),\n",
    "    c_pos_w='darkgreen',\n",
    "    c_neg_w='darkred',\n",
    "    vcenter=True,\n",
    "    save = '../figures/WT/t0_plot_networks.png'\n",
    ")"
   ]
  },
  {
   "cell_type": "code",
   "execution_count": null,
   "id": "f098e7f1-f99a-4d5c-ace0-6868c6b79d90",
   "metadata": {},
   "outputs": [],
   "source": [
    "# Extract logFCs and pvals\n",
    "logFCs = results_df[['log2FoldChange']].T.rename(index={'log2FoldChange': 'treatment.vs.control'})\n",
    "pvals = results_df[['padj']].T.rename(index={'padj': 'treatment.vs.control'})\n",
    "\n",
    "# Plot\n",
    "dc.plot_volcano(logFCs, pvals, 'treatment.vs.control', name='MAFA', net=collectri, top=10, sign_thr=0.05, lFCs_thr=0.5)"
   ]
  },
  {
   "cell_type": "markdown",
   "id": "943eb745-1da9-4f84-9d44-5280eafb8768",
   "metadata": {},
   "source": [
    "### Pathway activity inference"
   ]
  },
  {
   "cell_type": "code",
   "execution_count": null,
   "id": "f6d5a847-ec1e-4a24-83d0-93949619f0ea",
   "metadata": {},
   "outputs": [],
   "source": [
    "# Retrieve PROGENy model weights\n",
    "progeny = dc.get_progeny(top=500)\n",
    "progeny"
   ]
  },
  {
   "cell_type": "markdown",
   "id": "4d93d190-1bb9-46c6-8075-4f497bfec66b",
   "metadata": {},
   "source": [
    "### Activity inference with multivariate Linear Model (MLM)"
   ]
  },
  {
   "cell_type": "code",
   "execution_count": null,
   "id": "2ffe9810-e547-4d65-8f10-2e3b86d99e08",
   "metadata": {},
   "outputs": [],
   "source": [
    "# Infer pathway activities with mlm\n",
    "pathway_acts, pathway_pvals = dc.run_mlm(mat=mat, net=progeny, verbose=True)\n",
    "pathway_acts"
   ]
  },
  {
   "cell_type": "code",
   "execution_count": null,
   "id": "19f5203b-fc73-4c0c-aede-0eb5220c51c3",
   "metadata": {},
   "outputs": [],
   "source": [
    "dc.plot_barplot(\n",
    "    pathway_acts,\n",
    "    'treatment.vs.control',\n",
    "    top=25,\n",
    "    vertical=True,\n",
    "    vmin=-5,\n",
    "    vmax=5,\n",
    "    save='../figures/WT/t0_pathway_activities.png'\n",
    ")"
   ]
  },
  {
   "cell_type": "code",
   "execution_count": null,
   "id": "0062b143-2038-415d-a62d-19c429d47f01",
   "metadata": {},
   "outputs": [],
   "source": [
    "# increase activity\n",
    "# dc.plot_targets(results_df, stat='stat', source_name='p53', net=progeny, top=30,save='../figures/WT/t0_p53_targets.png')\n",
    "# dc.plot_targets(results_df, stat='stat', source_name='EGFR', net=progeny, top=30, save='../figures/WT/t0_EGFR_targets.png')\n",
    "# dc.plot_targets(results_df, stat='stat', source_name='Androgen', net=progeny, top=30,save='../figures/WT/t0_Androgen_targets.png')\n",
    "# # decrease activity\n",
    "# dc.plot_targets(results_df, stat='stat', source_name='JAK-STAT', net=progeny, top=30, save='../figures/WT/t0_JAK-STAT_targets.png')\n",
    "\n",
    "# Approach to investigate p53 -> PPI -> mechanism? -> ask -> Table with list of targets for each one of the pathways with statistics "
   ]
  },
  {
   "cell_type": "markdown",
   "id": "fa75adc5-5638-49dd-adee-bb691dd1730c",
   "metadata": {},
   "source": [
    "### Funtional enrichment of Biological Terms"
   ]
  },
  {
   "cell_type": "code",
   "execution_count": null,
   "id": "1765696c-c95e-4a7e-8aa5-426996f520c0",
   "metadata": {},
   "outputs": [],
   "source": [
    "# The Molecular Signatures Database (MSigDB) is a resource containing a collection of gene sets annotated to different biological processes.\n",
    "# msigdb = dc.get_resource('MSigDB')\n",
    "# msigdb"
   ]
  },
  {
   "cell_type": "code",
   "execution_count": null,
   "id": "a2b1b98f-0212-4ee1-926f-2762c2026c56",
   "metadata": {},
   "outputs": [],
   "source": [
    "# msigdb['collection'].unique()"
   ]
  },
  {
   "cell_type": "code",
   "execution_count": null,
   "id": "6a5b71e4-c513-4ddf-9e66-8c16db4636a0",
   "metadata": {},
   "outputs": [],
   "source": [
    "# # Filter by hallmark\n",
    "# msigdb = msigdb[msigdb['collection']=='hallmark']\n",
    "\n",
    "# # Remove duplicated entries\n",
    "# msigdb = msigdb[~msigdb.duplicated(['geneset', 'genesymbol'])]\n",
    "\n",
    "# # Rename\n",
    "# msigdb.loc[:, 'geneset'] = [name.split('HALLMARK_')[1] for name in msigdb['geneset']]\n",
    "\n",
    "# msigdb"
   ]
  },
  {
   "cell_type": "markdown",
   "id": "a312e32f-0a01-444c-8270-5e37b405f855",
   "metadata": {},
   "source": [
    "## ORA"
   ]
  },
  {
   "cell_type": "code",
   "execution_count": null,
   "id": "b7e8dd83-0096-45c0-982a-b6f2fb50584f",
   "metadata": {},
   "outputs": [],
   "source": [
    "# # Infer enrichment with ora using significant deg\n",
    "# top_genes = results_df[results_df['padj'] < 0.05]\n",
    "\n",
    "# # Run ora\n",
    "# enr_pvals = dc.get_ora_df(\n",
    "#     df=top_genes,\n",
    "#     net=msigdb,\n",
    "#     source='geneset',\n",
    "#     target='genesymbol'\n",
    "# )\n",
    "\n",
    "# enr_pvals.head()"
   ]
  },
  {
   "cell_type": "code",
   "execution_count": null,
   "id": "9932e3bb-be7a-449b-b5b1-a7b68d22089b",
   "metadata": {},
   "outputs": [
    {
     "ename": "",
     "evalue": "",
     "output_type": "error",
     "traceback": [
      "\u001b[1;31mThe Kernel crashed while executing code in the current cell or a previous cell. \n",
      "\u001b[1;31mPlease review the code in the cell(s) to identify a possible cause of the failure. \n",
      "\u001b[1;31mClick <a href='https://aka.ms/vscodeJupyterKernelCrash'>here</a> for more info. \n",
      "\u001b[1;31mView Jupyter <a href='command:jupyter.viewOutput'>log</a> for further details."
     ]
    }
   ],
   "source": [
    "# dc.plot_dotplot(\n",
    "#     enr_pvals.sort_values('Combined score', ascending=False).head(15),\n",
    "#     x='Combined score',\n",
    "#     y='Term',\n",
    "#     s='Odds ratio',\n",
    "#     c='FDR p-value',\n",
    "#     scale=0.4,\n",
    "#     figsize=(5, 10),\n",
    "#     save='../figures/WT/t0_ORA.png'\n",
    "# )"
   ]
  },
  {
   "cell_type": "code",
   "execution_count": null,
   "id": "4051f77e-dacf-4f08-9c5b-1e69db85ceb4",
   "metadata": {},
   "outputs": [],
   "source": []
  },
  {
   "cell_type": "code",
   "execution_count": null,
   "id": "5bebbf76-d59d-4234-a3f9-415e090bf8f1",
   "metadata": {},
   "outputs": [],
   "source": []
  }
 ],
 "metadata": {
  "kernelspec": {
   "display_name": "decoupler",
   "language": "python",
   "name": "decoupler"
  }
 },
 "nbformat": 4,
 "nbformat_minor": 5
}
