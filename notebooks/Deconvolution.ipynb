{
 "cells": [
  {
   "cell_type": "markdown",
   "id": "70762017-8743-4f10-b978-2edbe18d982b",
   "metadata": {},
   "source": [
    "# Deconvolution of bulk RNA Data (WT/mutant)"
   ]
  },
  {
   "cell_type": "code",
   "execution_count": null,
   "id": "7b2ed02f-8280-4a9d-913c-2f5960e84252",
   "metadata": {},
   "outputs": [],
   "source": []
  },
  {
   "cell_type": "code",
   "execution_count": null,
   "id": "105d4283-cb4a-4a88-971e-695c9ca80c27",
   "metadata": {},
   "outputs": [],
   "source": [
    "if (!requireNamespace(\"BiocManager\", quietly = TRUE))\n",
    "    install.packages(\"BiocManager\")\n",
    "BiocManager::install(c(\"Gviz\", \"GenomicRanges\", \"rtracklayer\"))"
   ]
  },
  {
   "cell_type": "code",
   "execution_count": null,
   "id": "fd074699-c323-4d81-805f-d8afa038146f",
   "metadata": {},
   "outputs": [],
   "source": [
    "install.packages(\"devtools\")\n",
    "devtools::install_github(\"cole-trapnell-lab/cicero-release\", ref = \"monocle3\")"
   ]
  },
  {
   "cell_type": "code",
   "execution_count": null,
   "id": "4e9f83d7-677d-40e8-b791-5f7c40894161",
   "metadata": {},
   "outputs": [],
   "source": [
    "library(cicero)\n",
    "library(monocle3)"
   ]
  },
  {
   "cell_type": "code",
   "execution_count": null,
   "id": "58652a37-f08c-4bad-a369-8237d3f1bbeb",
   "metadata": {},
   "outputs": [],
   "source": []
  },
  {
   "cell_type": "code",
   "execution_count": null,
   "id": "45aaf49c-ce01-433a-8e9a-3aaea2d515ef",
   "metadata": {},
   "outputs": [],
   "source": []
  },
  {
   "cell_type": "code",
   "execution_count": null,
   "id": "978717e1-3627-47c7-9f09-62265ef9a2bf",
   "metadata": {},
   "outputs": [],
   "source": []
  },
  {
   "cell_type": "code",
   "execution_count": null,
   "id": "dde25259-fbdf-4bca-88ef-712db59c5eb3",
   "metadata": {},
   "outputs": [],
   "source": []
  },
  {
   "cell_type": "code",
   "execution_count": null,
   "id": "8649ea5d-af8f-41ab-b354-6dcb4bf1b17d",
   "metadata": {},
   "outputs": [],
   "source": []
  },
  {
   "cell_type": "code",
   "execution_count": null,
   "id": "d2068917-2e36-4a68-b122-4737f554d907",
   "metadata": {},
   "outputs": [],
   "source": []
  },
  {
   "cell_type": "code",
   "execution_count": null,
   "id": "ec5211e6-9914-4560-a09b-f34157941c78",
   "metadata": {},
   "outputs": [],
   "source": []
  },
  {
   "cell_type": "code",
   "execution_count": null,
   "id": "1a84ca34-6404-4acb-8d75-74ba346ffa4c",
   "metadata": {},
   "outputs": [],
   "source": []
  },
  {
   "cell_type": "code",
   "execution_count": null,
   "id": "374b49dc-5c9f-46b1-af3e-8655f6f3a1a2",
   "metadata": {},
   "outputs": [],
   "source": []
  },
  {
   "cell_type": "code",
   "execution_count": null,
   "id": "28b324df-bbe6-4287-b10b-dd4039d2c583",
   "metadata": {},
   "outputs": [],
   "source": []
  },
  {
   "cell_type": "code",
   "execution_count": null,
   "id": "9fa4555b-e87b-4e0c-90be-8aeaa535c00c",
   "metadata": {},
   "outputs": [],
   "source": []
  },
  {
   "cell_type": "code",
   "execution_count": null,
   "id": "38950513-d3c6-4152-9fc1-975953e82847",
   "metadata": {},
   "outputs": [],
   "source": []
  },
  {
   "cell_type": "code",
   "execution_count": null,
   "id": "5a3a6109-5382-4033-a73b-c32797cab663",
   "metadata": {},
   "outputs": [],
   "source": []
  },
  {
   "cell_type": "code",
   "execution_count": null,
   "id": "5b2e1ce5-d614-47ab-97a2-d01fca2f6ae4",
   "metadata": {},
   "outputs": [],
   "source": []
  },
  {
   "cell_type": "code",
   "execution_count": null,
   "id": "f3930e0e-8bf7-496e-9141-bcb72c6dbd29",
   "metadata": {},
   "outputs": [],
   "source": []
  },
  {
   "cell_type": "code",
   "execution_count": null,
   "id": "25f08af4-f65b-41a6-94d5-000e7e049de6",
   "metadata": {},
   "outputs": [],
   "source": []
  },
  {
   "cell_type": "code",
   "execution_count": null,
   "id": "6e4e6cf4-c728-4ffd-a5a5-7d066e804518",
   "metadata": {},
   "outputs": [],
   "source": []
  },
  {
   "cell_type": "code",
   "execution_count": null,
   "id": "fbcd268d-412c-4aab-bef1-54e90743b738",
   "metadata": {},
   "outputs": [],
   "source": []
  },
  {
   "cell_type": "code",
   "execution_count": null,
   "id": "4f211b6d-afae-4814-8347-459a5c644c6f",
   "metadata": {},
   "outputs": [],
   "source": []
  }
 ],
 "metadata": {
  "kernelspec": {
   "display_name": "R",
   "language": "R",
   "name": "ir"
  },
  "language_info": {
   "codemirror_mode": "r",
   "file_extension": ".r",
   "mimetype": "text/x-r-source",
   "name": "R",
   "pygments_lexer": "r",
   "version": "4.3.2"
  }
 },
 "nbformat": 4,
 "nbformat_minor": 5
}
